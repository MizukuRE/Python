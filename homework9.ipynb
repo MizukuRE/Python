{
  "nbformat": 4,
  "nbformat_minor": 0,
  "metadata": {
    "colab": {
      "provenance": []
    },
    "kernelspec": {
      "name": "python3",
      "display_name": "Python 3"
    },
    "language_info": {
      "name": "python"
    }
  },
  "cells": [
    {
      "cell_type": "markdown",
      "source": [
        "**Задача 40:** Работать с файлом `california_housing_train.csv`, который находится в папке **sample_data**. Определить среднюю стоимость дома, где кол-во людей от 0 до 500 **(population)**."
      ],
      "metadata": {
        "id": "3eMdhNk_8rak"
      }
    },
    {
      "cell_type": "code",
      "source": [
        "import pandas as pd"
      ],
      "metadata": {
        "id": "iX39bB9B8wLE"
      },
      "execution_count": 1,
      "outputs": []
    },
    {
      "cell_type": "code",
      "source": [
        "df = pd.read_csv('sample_data/california_housing_train.csv')"
      ],
      "metadata": {
        "id": "FiKbtbjw9H94"
      },
      "execution_count": 2,
      "outputs": []
    },
    {
      "cell_type": "code",
      "source": [
        "df[df['population'] <= 500]['median_house_value'].mean()"
      ],
      "metadata": {
        "colab": {
          "base_uri": "https://localhost:8080/"
        },
        "id": "GH8PZI9H9y8z",
        "outputId": "51cb4d13-b828-4df6-b89f-fb0029cd1b2d"
      },
      "execution_count": 10,
      "outputs": [
        {
          "output_type": "execute_result",
          "data": {
            "text/plain": [
              "206799.95140186916"
            ]
          },
          "metadata": {},
          "execution_count": 10
        }
      ]
    },
    {
      "cell_type": "markdown",
      "source": [
        "**Задача 42:** Узнать какая максимальная **households** в зоне минимального значения **population**."
      ],
      "metadata": {
        "id": "WRXNdO4M_Xlj"
      }
    },
    {
      "cell_type": "code",
      "source": [
        "df[df['population'] <= 500]['households'].max()"
      ],
      "metadata": {
        "colab": {
          "base_uri": "https://localhost:8080/"
        },
        "id": "JfALqBdx_cXd",
        "outputId": "f2d98534-79e0-4738-8a27-976ca0f80f20"
      },
      "execution_count": 26,
      "outputs": [
        {
          "output_type": "execute_result",
          "data": {
            "text/plain": [
              "348.0"
            ]
          },
          "metadata": {},
          "execution_count": 26
        }
      ]
    }
  ]
}